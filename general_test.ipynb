{
  "nbformat": 4,
  "nbformat_minor": 0,
  "metadata": {
    "colab": {
      "provenance": [],
      "authorship_tag": "ABX9TyPuQUqBKAsK5ZM3xaCtt/lW",
      "include_colab_link": true
    },
    "kernelspec": {
      "name": "python3",
      "display_name": "Python 3"
    },
    "language_info": {
      "name": "python"
    }
  },
  "cells": [
    {
      "cell_type": "markdown",
      "metadata": {
        "id": "view-in-github",
        "colab_type": "text"
      },
      "source": [
        "<a href=\"https://colab.research.google.com/github/MichalPuzanov/colab/blob/main/general_test.ipynb\" target=\"_parent\"><img src=\"https://colab.research.google.com/assets/colab-badge.svg\" alt=\"Open In Colab\"/></a>"
      ]
    },
    {
      "cell_type": "code",
      "execution_count": 1,
      "metadata": {
        "colab": {
          "base_uri": "https://localhost:8080/"
        },
        "id": "giXcGly82Wex",
        "outputId": "a162dbc1-20e1-4aff-9e47-83f0a1401489"
      },
      "outputs": [
        {
          "output_type": "stream",
          "name": "stdout",
          "text": [
            "Oswaldddd\n"
          ]
        }
      ],
      "source": [
        "a = 5\n",
        "b = 10\n",
        "print(\"Rupesh mum\") if a == 6 or b == 11 else print(\"Oswaldddd\")"
      ]
    },
    {
      "cell_type": "code",
      "source": [
        "a = [\"Ahoj\", \"Hello\"]\n",
        "b = [\"Vole\", \"Dude\"]\n",
        "list(zip(a,b)), dict(zip(a,b)), tuple(zip(a,b))"
      ],
      "metadata": {
        "id": "Xz2F-a_UEBrH",
        "outputId": "f7176a51-cb2b-4ce8-ab39-ef061666fd6a",
        "colab": {
          "base_uri": "https://localhost:8080/"
        }
      },
      "execution_count": 6,
      "outputs": [
        {
          "output_type": "execute_result",
          "data": {
            "text/plain": [
              "([('Ahoj', 'Vole'), ('Hello', 'Dude')],\n",
              " {'Ahoj': 'Vole', 'Hello': 'Dude'},\n",
              " (('Ahoj', 'Vole'), ('Hello', 'Dude')))"
            ]
          },
          "metadata": {},
          "execution_count": 6
        }
      ]
    }
  ]
}